{
 "cells": [
  {
   "cell_type": "markdown",
   "metadata": {},
   "source": [
    "# 1. Connect to Redis\n",
    "We will use maven format to incluse the Jedis client in this notebook.\n",
    "\n",
    "For more info, visit https://github.com/redis/jedis\n",
    "\n",
    "Notice that for VSS support, we need Jedis 4.2.1 and above."
   ]
  },
  {
   "cell_type": "code",
   "execution_count": 17,
   "metadata": {
    "vscode": {
     "languageId": "java"
    }
   },
   "outputs": [],
   "source": [
    "%%loadFromPOM\n",
    "<repository>\n",
    "  <id>VSS-JAVA-DEMO</id>\n",
    "  <url>https://github.com/redis/jedis</url>\n",
    "</repository>\n",
    "\n",
    "<dependency>\n",
    "  <groupId>redis.clients</groupId>\n",
    "  <artifactId>jedis</artifactId>\n",
    "  <version>4.2.1</version>\n",
    "</dependency>\n"
   ]
  },
  {
   "cell_type": "code",
   "execution_count": 18,
   "metadata": {
    "vscode": {
     "languageId": "java"
    }
   },
   "outputs": [],
   "source": [
    "// Importing some needed classes from the redis Java client\n",
    "\n",
    "import java.util.Map;\n",
    "\n",
    "import redis.clients.jedis.JedisPooled;\n",
    "import redis.clients.jedis.UnifiedJedis;\n",
    "import redis.clients.jedis.Protocol;\n",
    "import redis.clients.jedis.search.*;\n",
    "import redis.clients.jedis.CommandArguments;\n",
    "import redis.clients.jedis.commands.ProtocolCommand;\n",
    "\n",
    "// connect to redis\n",
    "String host = \"vecsim\";\n",
    "int port = 6379;\n",
    "UnifiedJedis redis_conn = new JedisPooled(host, port);\n",
    "\n",
    "// some logging warnings may come up. lets not worry about that in this notebook."
   ]
  },
  {
   "cell_type": "code",
   "execution_count": 19,
   "metadata": {
    "tags": [],
    "vscode": {
     "languageId": "java"
    }
   },
   "outputs": [
    {
     "data": {
      "text/plain": [
       "Success!"
      ]
     },
     "execution_count": 19,
     "metadata": {},
     "output_type": "execute_result"
    }
   ],
   "source": [
    "// Test connection\n",
    "redis_conn.set(\"test\", \"Success!\");\n",
    "redis_conn.get(\"test\");"
   ]
  },
  {
   "cell_type": "markdown",
   "metadata": {},
   "source": [
    "# 2 Utility functions to load data into Redis \n",
    "We'll be loading into a \"hash\" structure (a table-like structure)"
   ]
  },
  {
   "cell_type": "code",
   "execution_count": 4,
   "metadata": {
    "vscode": {
     "languageId": "java"
    }
   },
   "outputs": [],
   "source": [
    "// load articles into redis hash\n",
    "\n",
    "import java.nio.ByteBuffer;\n",
    "\n",
    "public byte[] floatToByte(float[] input) {\n",
    "    byte[] ret = new byte[input.length*4];\n",
    "    for (int x = 0; x < input.length; x++) {\n",
    "        ByteBuffer.wrap(ret, x*4, 4).putFloat(input[x]);\n",
    "    }\n",
    "    return ret;\n",
    "}\n",
    "\n",
    "public void load_vectors(UnifiedJedis client, String vector_field_name, int dimension, int amount) {\n",
    "    amount = amount > 0 ? amount : 300;\n",
    "    for (int i = 0; i < amount; i++) {\n",
    "        // hash key\n",
    "        float[] vec = new float[dimension];\n",
    "        float val = (float)i / (dimension + i);\n",
    "        for (int j = 0; j < vec.length; j++) {\n",
    "            vec[j] = val;\n",
    "        }\n",
    "        String key = \"doc:\" + i;\n",
    "        client.hset(key.getBytes(), vector_field_name.getBytes(), floatToByte(vec));\n",
    "        client.hset(key, \"number\", i + \"\");\n",
    "    }\n",
    "}\n",
    "\n",
    "public void flushAll(UnifiedJedis client) {\n",
    "    client.executeCommand(new CommandArguments(Protocol.Command.FLUSHALL));\n",
    "}\n",
    "\n",
    "public void printDoc(Document doc) {\n",
    "    String str = \"id: \" + doc.getId() + \", properties:\" + doc.getProperties();\n",
    "    System.out.println(str);\n",
    "}\n"
   ]
  },
  {
   "cell_type": "markdown",
   "metadata": {},
   "source": [
    "# 3.Utility Functions to Define vector indexes "
   ]
  },
  {
   "cell_type": "code",
   "execution_count": 5,
   "metadata": {
    "tags": [],
    "vscode": {
     "languageId": "java"
    }
   },
   "outputs": [],
   "source": [
    "// Utility Functions to Create Indexes on Vector field\n",
    "\n",
    "public void create_flat_index (UnifiedJedis redis_conn, String vector_field_name, int number_of_vectors, int vector_dimensions, String distance_metric) {\n",
    "    Map<String, Object> attr = new HashMap<>();\n",
    "    attr.put(\"TYPE\", \"FLOAT32\");\n",
    "    attr.put(\"DIM\", vector_dimensions);\n",
    "    attr.put(\"DISTANCE_METRIC\", distance_metric);\n",
    "    attr.put(\"INITIAL_CAP\", number_of_vectors);\n",
    "    Schema schema = new Schema().addFlatVectorField(vector_field_name, attr).addNumericField(\"number\");\n",
    "    redis_conn.ftCreate(\"my_index\", IndexOptions.defaultOptions(), schema);\n",
    "}\n",
    "\n",
    "public void create_hnsw_index (UnifiedJedis redis_conn, String vector_field_name, int number_of_vectors, int vector_dimensions, String distance_metric, int m, int ef) {\n",
    "    Map<String, Object> attr = new HashMap<>();\n",
    "    attr.put(\"TYPE\", \"FLOAT32\");\n",
    "    attr.put(\"DIM\", vector_dimensions);\n",
    "    attr.put(\"DISTANCE_METRIC\", distance_metric);\n",
    "    attr.put(\"INITIAL_CAP\", number_of_vectors);\n",
    "    attr.put(\"M\", m);\n",
    "    attr.put(\"EF_CONSTRUCTION\", ef);\n",
    "    Schema schema = new Schema().addHNSWVectorField(vector_field_name, attr).addNumericField(\"number\");\n",
    "    redis_conn.ftCreate(\"my_index\", IndexOptions.defaultOptions(), schema);\n",
    "}"
   ]
  },
  {
   "cell_type": "markdown",
   "metadata": {},
   "source": [
    "# 4. Load and Index data (HNSW Vector Index)"
   ]
  },
  {
   "cell_type": "code",
   "execution_count": 6,
   "metadata": {
    "vscode": {
     "languageId": "java"
    }
   },
   "outputs": [
    {
     "name": "stdout",
     "output_type": "stream",
     "text": [
      "300 News Articles loaded and indexed\n"
     ]
    }
   ],
   "source": [
    "int NUMBER_ARTICLES = 300;\n",
    "String VECTOR_FIELD_NAME = \"my_vector\";\n",
    "String DISTANCE_METRIC = \"L2\";\n",
    "int DIMENSIONS = 100;\n",
    "\n",
    "flushAll(redis_conn);\n",
    "create_hnsw_index(redis_conn,VECTOR_FIELD_NAME,NUMBER_ARTICLES,DIMENSIONS,DISTANCE_METRIC,40,200);\n",
    "load_vectors(redis_conn,VECTOR_FIELD_NAME,DIMENSIONS,NUMBER_ARTICLES);\n",
    "System.out.println(NUMBER_ARTICLES + \" News Articles loaded and indexed\");"
   ]
  },
  {
   "cell_type": "markdown",
   "metadata": {},
   "source": [
    "# 5. A simple FT.SEARCH (without vector similarity)\n",
    "### Get all documents with `number` field between 42 and 46 \n",
    "\n",
    "FT.SEARCH QUERY = `@number:[42 46]`"
   ]
  },
  {
   "cell_type": "code",
   "execution_count": 7,
   "metadata": {
    "vscode": {
     "languageId": "java"
    }
   },
   "outputs": [
    {
     "name": "stdout",
     "output_type": "stream",
     "text": [
      "Got 5 results.\n",
      "id: doc:42, properties:[]\n",
      "id: doc:43, properties:[]\n",
      "id: doc:44, properties:[]\n",
      "id: doc:45, properties:[]\n",
      "id: doc:46, properties:[]\n"
     ]
    }
   ],
   "source": [
    "Query q = new Query(\"@number:[42 46]\").setNoContent();\n",
    "List<Document> docs = redis_conn.ftSearch(\"my_index\", q).getDocuments();\n",
    "\n",
    "System.out.println(\"Got \" + docs.size() + \" results.\");\n",
    "for (Document doc : docs) {\n",
    "    printDoc(doc);\n",
    "}\n"
   ]
  },
  {
   "cell_type": "markdown",
   "metadata": {},
   "source": [
    "# 6. A simple FT.SEARCH (only vector similarity)\n",
    "### Get top 4 documents with thier vector field is the closest to [1.4e-30f, 1.4e-30f,...]\n",
    "\n",
    "FT.SEARCH QUERY = `*=>[KNN 4 @my_vector $QUERY_BLOB]`"
   ]
  },
  {
   "cell_type": "code",
   "execution_count": 8,
   "metadata": {
    "tags": [],
    "vscode": {
     "languageId": "java"
    }
   },
   "outputs": [
    {
     "name": "stdout",
     "output_type": "stream",
     "text": [
      "Got 4 results.\n",
      "id: doc:132, properties:[__my_vector_score=1.08511912913e-05, number=132, my_vector=?\u0011��?\u0011��?\u0011��?\u0011��?\u0011��?\u0011��?\u0011��?\u0011��?\u0011��?\u0011��?\u0011��?\u0011��?\u0011��?\u0011��?\u0011��?\u0011��?\u0011��?\u0011��?\u0011��?\u0011��?\u0011��?\u0011��?\u0011��?\u0011��?\u0011��?\u0011��?\u0011��?\u0011��?\u0011��?\u0011��?\u0011��?\u0011��?\u0011��?\u0011��?\u0011��?\u0011��?\u0011��?\u0011��?\u0011��?\u0011��?\u0011��?\u0011��?\u0011��?\u0011��?\u0011��?\u0011��?\u0011��?\u0011��?\u0011��?\u0011��?\u0011��?\u0011��?\u0011��?\u0011��?\u0011��?\u0011��?\u0011��?\u0011��?\u0011��?\u0011��?\u0011��?\u0011��?\u0011��?\u0011��?\u0011��?\u0011��?\u0011��?\u0011��?\u0011��?\u0011��?\u0011��?\u0011��?\u0011��?\u0011��?\u0011��?\u0011��?\u0011��?\u0011��?\u0011��?\u0011��?\u0011��?\u0011��?\u0011��?\u0011��?\u0011��?\u0011��?\u0011��?\u0011��?\u0011��?\u0011��?\u0011��?\u0011��?\u0011��?\u0011��?\u0011��?\u0011��?\u0011��?\u0011��?\u0011��?\u0011��]\n",
      "id: doc:12, properties:[__my_vector_score=4.01816214435e-05, number=12, my_vector==�m�=�m�=�m�=�m�=�m�=�m�=�m�=�m�=�m�=�m�=�m�=�m�=�m�=�m�=�m�=�m�=�m�=�m�=�m�=�m�=�m�=�m�=�m�=�m�=�m�=�m�=�m�=�m�=�m�=�m�=�m�=�m�=�m�=�m�=�m�=�m�=�m�=�m�=�m�=�m�=�m�=�m�=�m�=�m�=�m�=�m�=�m�=�m�=�m�=�m�=�m�=�m�=�m�=�m�=�m�=�m�=�m�=�m�=�m�=�m�=�m�=�m�=�m�=�m�=�m�=�m�=�m�=�m�=�m�=�m�=�m�=�m�=�m�=�m�=�m�=�m�=�m�=�m�=�m�=�m�=�m�=�m�=�m�=�m�=�m�=�m�=�m�=�m�=�m�=�m�=�m�=�m�=�m�=�m�=�m�=�m�=�m�=�m�=�m�=�m�]\n",
      "id: doc:75, properties:[__my_vector_score=4.01816214435e-05, number=75, my_vector=>�m�>�m�>�m�>�m�>�m�>�m�>�m�>�m�>�m�>�m�>�m�>�m�>�m�>�m�>�m�>�m�>�m�>�m�>�m�>�m�>�m�>�m�>�m�>�m�>�m�>�m�>�m�>�m�>�m�>�m�>�m�>�m�>�m�>�m�>�m�>�m�>�m�>�m�>�m�>�m�>�m�>�m�>�m�>�m�>�m�>�m�>�m�>�m�>�m�>�m�>�m�>�m�>�m�>�m�>�m�>�m�>�m�>�m�>�m�>�m�>�m�>�m�>�m�>�m�>�m�>�m�>�m�>�m�>�m�>�m�>�m�>�m�>�m�>�m�>�m�>�m�>�m�>�m�>�m�>�m�>�m�>�m�>�m�>�m�>�m�>�m�>�m�>�m�>�m�>�m�>�m�>�m�>�m�>�m�>�m�>�m�>�m�>�m�>�m�>�m�]\n",
      "id: doc:240, properties:[__my_vector_score=4.18252602685e-05, number=240, my_vector=?4��?4��?4��?4��?4��?4��?4��?4��?4��?4��?4��?4��?4��?4��?4��?4��?4��?4��?4��?4��?4��?4��?4��?4��?4��?4��?4��?4��?4��?4��?4��?4��?4��?4��?4��?4��?4��?4��?4��?4��?4��?4��?4��?4��?4��?4��?4��?4��?4��?4��?4��?4��?4��?4��?4��?4��?4��?4��?4��?4��?4��?4��?4��?4��?4��?4��?4��?4��?4��?4��?4��?4��?4��?4��?4��?4��?4��?4��?4��?4��?4��?4��?4��?4��?4��?4��?4��?4��?4��?4��?4��?4��?4��?4��?4��?4��?4��?4��?4��?4��]\n"
     ]
    }
   ],
   "source": [
    "// query for similarity\n",
    "\n",
    "float[] e = new float[DIMENSIONS];\n",
    "for (int j = 0; j < e.length; j++) {\n",
    "    e[j] = 1.4e-30f;\n",
    "}\n",
    "\n",
    "int K = 4;\n",
    "Query q = new Query(\"*=>[KNN $K @my_vector $BLOB]\").setSortBy(\"__my_vector_score\", true).addParam(\"K\", K).addParam(\"BLOB\", floatToByte(e)).limit(0,K).dialect(2);\n",
    "\n",
    "// parameters to be passed into search\n",
    "List<Document> docs = redis_conn.ftSearch(\"my_index\", q).getDocuments();\n",
    "\n",
    "System.out.println(\"Got \" + docs.size() + \" results.\");\n",
    "for (Document doc : docs) {\n",
    "    printDoc(doc);\n",
    "}"
   ]
  },
  {
   "cell_type": "markdown",
   "metadata": {},
   "source": [
    "### Same query, but naming the distances results and not returning the vectors blobs\n",
    "\n",
    "FT.SEARCH QUERY = `*=>[KNN 4 @my_vector $QUERY_BLOB AS distances]`"
   ]
  },
  {
   "cell_type": "code",
   "execution_count": 9,
   "metadata": {
    "vscode": {
     "languageId": "java"
    }
   },
   "outputs": [
    {
     "name": "stdout",
     "output_type": "stream",
     "text": [
      "Got 4 results.\n",
      "id: doc:132, properties:[distances=1.08511912913e-05, number=132]\n",
      "id: doc:12, properties:[distances=4.01816214435e-05, number=12]\n",
      "id: doc:75, properties:[distances=4.01816214435e-05, number=75]\n",
      "id: doc:240, properties:[distances=4.18252602685e-05, number=240]\n"
     ]
    }
   ],
   "source": [
    "// Now without getting the vector blobs\n",
    "\n",
    "int K = 4;\n",
    "Query q = new Query(\"*=>[KNN $K @my_vector $BLOB AS distances]\").setSortBy(\"distances\", true)\n",
    "                                                                .returnFields(\"number\", \"distances\")\n",
    "                                                                .addParam(\"K\", K)\n",
    "                                                                .addParam(\"BLOB\", floatToByte(e))\n",
    "                                                                .limit(0,K)\n",
    "                                                                .dialect(2);\n",
    "\n",
    "// parameters to be passed into search\n",
    "List<Document> docs = redis_conn.ftSearch(\"my_index\", q).getDocuments();\n",
    "\n",
    "System.out.println(\"Got \" + docs.size() + \" results.\");\n",
    "for (Document doc : docs) {\n",
    "    printDoc(doc);\n",
    "}"
   ]
  },
  {
   "cell_type": "markdown",
   "metadata": {
    "tags": []
   },
   "source": [
    "# 7. Config default dialect\n",
    "\n",
    "VSS syntax is avalible only on dialect 2 of the FT.SEARCH command.\n",
    "\n",
    "As for RediSearch 2.4.3, the default dialect is 1, so we needed to specify in the command that we want to use dialect 2.\n",
    "\n",
    "lets instead set the default dialect to 2, so we wont need to include it in every query"
   ]
  },
  {
   "cell_type": "code",
   "execution_count": 10,
   "metadata": {},
   "outputs": [
    {
     "data": {
      "text/plain": [
       "OK"
      ]
     },
     "execution_count": 10,
     "metadata": {},
     "output_type": "execute_result"
    }
   ],
   "source": [
    "\n",
    "redis_conn.ftConfigSet(\"DEFAULT_DIALECT\", \"2\");\n"
   ]
  },
  {
   "cell_type": "markdown",
   "metadata": {},
   "source": [
    "# 8. A Hybrid Query FT.SEARCH (vector and non-vector search criteria)\n",
    "### Get top 5 documents with `number` value is between 0 and 100\n",
    "\n",
    "FT.SEARCH QUERY = `@number:[0 100]=>[KNN $K @my_vector $BLOB AS scores]`"
   ]
  },
  {
   "cell_type": "code",
   "execution_count": 11,
   "metadata": {
    "vscode": {
     "languageId": "java"
    }
   },
   "outputs": [
    {
     "name": "stdout",
     "output_type": "stream",
     "text": [
      "Got 5 results.\n",
      "id: doc:12, properties:[number=12, scores=4.01816214435e-05]\n",
      "id: doc:75, properties:[number=75, scores=4.01816214435e-05]\n",
      "id: doc:71, properties:[number=71, scores=4.18545423599e-05]\n",
      "id: doc:15, properties:[number=15, scores=4.19969401264e-05]\n",
      "id: doc:2, properties:[number=2, scores=4.19991083618e-05]\n"
     ]
    }
   ],
   "source": [
    "// same query vector as before\n",
    "\n",
    "// build query\n",
    "int K = 5;\n",
    "Query q = new Query(\"@number:[0 100]=>[KNN $K @my_vector $BLOB AS scores]\").setSortBy(\"scores\", true)\n",
    "                                                                           .returnFields(\"number\", \"scores\")\n",
    "                                                                           .addParam(\"K\", K)\n",
    "                                                                           .addParam(\"BLOB\", floatToByte(e))\n",
    "                                                                           .limit(0,K);\n",
    "\n",
    "// FT.SEARCH \n",
    "List<Document> docs = redis_conn.ftSearch(\"my_index\", q).getDocuments();\n",
    "\n",
    "System.out.println(\"Got \" + docs.size() + \" results.\");\n",
    "for (Document doc : docs) {\n",
    "    printDoc(doc);\n",
    "}"
   ]
  },
  {
   "cell_type": "markdown",
   "metadata": {
    "tags": []
   },
   "source": [
    "# 9. Another Hybrid Query FT.SEARCH (vector and non-vector search criteria)\n",
    "## Get top 5 articles with \n",
    "- `number` value is between 0 and 20\n",
    "\n",
    "OR\n",
    "- `number` value is between `indexsize-20` and `indexsize`\n"
   ]
  },
  {
   "cell_type": "code",
   "execution_count": 12,
   "metadata": {
    "vscode": {
     "languageId": "java"
    }
   },
   "outputs": [
    {
     "name": "stdout",
     "output_type": "stream",
     "text": [
      "Got 5 results.\n",
      "id: doc:12, properties:[number=12, scores=4.01816214435e-05]\n",
      "id: doc:289, properties:[number=289, scores=4.19937896368e-05]\n",
      "id: doc:15, properties:[number=15, scores=4.19969401264e-05]\n",
      "id: doc:280, properties:[number=280, scores=4.1999068344e-05]\n",
      "id: doc:2, properties:[number=2, scores=4.19991083618e-05]\n"
     ]
    }
   ],
   "source": [
    "// query for similarity\n",
    "\n",
    "int K = 5;\n",
    "Query q = new Query(\"(@number:[0 20]|@number:[$x $y])=>[KNN $K @my_vector $BLOB AS scores]\").setSortBy(\"scores\", true)\n",
    "                                                                                            .returnFields(\"number\", \"scores\")\n",
    "                                                                                            .addParam(\"K\", K)\n",
    "                                                                                            .addParam(\"x\", NUMBER_ARTICLES - 20)\n",
    "                                                                                            .addParam(\"y\", NUMBER_ARTICLES)\n",
    "                                                                                            .addParam(\"BLOB\", floatToByte(e))\n",
    "                                                                                            .limit(0,K);\n",
    "\n",
    "// FT.SEARCH \n",
    "List<Document> docs = redis_conn.ftSearch(\"my_index\", q).getDocuments();\n",
    "\n",
    "System.out.println(\"Got \" + docs.size() + \" results.\");\n",
    "for (Document doc : docs) {\n",
    "    printDoc(doc);\n",
    "}"
   ]
  },
  {
   "cell_type": "markdown",
   "metadata": {
    "tags": []
   },
   "source": [
    "## another way for the same results:\n",
    "## Get top 5 articles with \n",
    "- `number` value is NOT between `21` and `indexsize-21` (\"`(indexsize-20`\" means don't include this value)\n"
   ]
  },
  {
   "cell_type": "code",
   "execution_count": 13,
   "metadata": {
    "vscode": {
     "languageId": "java"
    }
   },
   "outputs": [
    {
     "name": "stdout",
     "output_type": "stream",
     "text": [
      "Got 5 results.\n",
      "id: doc:12, properties:[number=12, scores=4.01816214435e-05]\n",
      "id: doc:289, properties:[number=289, scores=4.19937896368e-05]\n",
      "id: doc:15, properties:[number=15, scores=4.19969401264e-05]\n",
      "id: doc:280, properties:[number=280, scores=4.1999068344e-05]\n",
      "id: doc:2, properties:[number=2, scores=4.19991083618e-05]\n"
     ]
    }
   ],
   "source": [
    "// query for similarity\n",
    "\n",
    "int K = 5;\n",
    "Query q = new Query(\"(-@number:[21 (\"+ (NUMBER_ARTICLES - 20) +\"])=>[KNN $K @my_vector $BLOB AS scores]\").setSortBy(\"scores\", true)\n",
    "                                                                                                         .returnFields(\"number\", \"scores\")\n",
    "                                                                                                         .addParam(\"K\", K)\n",
    "                                                                                                         .addParam(\"BLOB\", floatToByte(e))\n",
    "                                                                                                         .limit(0,K);\n",
    "\n",
    "// FT.SEARCH \n",
    "List<Document> docs = redis_conn.ftSearch(\"my_index\", q).getDocuments();\n",
    "\n",
    "System.out.println(\"Got \" + docs.size() + \" results.\");\n",
    "for (Document doc : docs) {\n",
    "    printDoc(doc);\n",
    "}"
   ]
  },
  {
   "cell_type": "markdown",
   "metadata": {},
   "source": [
    "# 10. Load and Index data (FLAT Vector Index)"
   ]
  },
  {
   "cell_type": "code",
   "execution_count": 14,
   "metadata": {
    "vscode": {
     "languageId": "java"
    }
   },
   "outputs": [
    {
     "name": "stdout",
     "output_type": "stream",
     "text": [
      "300 News Articles loaded and indexed\n"
     ]
    }
   ],
   "source": [
    "int NUMBER_ARTICLES = 300;\n",
    "String VECTOR_FIELD_NAME = \"my_vector\";\n",
    "\n",
    "flushAll(redis_conn);\n",
    "create_flat_index(redis_conn,VECTOR_FIELD_NAME,NUMBER_ARTICLES,DIMENSIONS,DISTANCE_METRIC);\n",
    "load_vectors(redis_conn,VECTOR_FIELD_NAME,DIMENSIONS,NUMBER_ARTICLES);\n",
    "System.out.println(NUMBER_ARTICLES + \" News Articles loaded and indexed\");"
   ]
  },
  {
   "cell_type": "markdown",
   "metadata": {},
   "source": [
    "# 11. Another Hybrid Query FT.SEARCH (vector and non-vector search criteria)\n",
    "### Get top 5 documents with `number` value is between 0 and 100\n",
    "\n",
    "FT.SEARCH QUERY = `@number:[0 100]=>[KNN $K @my_vector $BLOB AS scores]`"
   ]
  },
  {
   "cell_type": "code",
   "execution_count": 15,
   "metadata": {
    "vscode": {
     "languageId": "java"
    }
   },
   "outputs": [
    {
     "name": "stdout",
     "output_type": "stream",
     "text": [
      "Got 5 results.\n",
      "id: doc:12, properties:[number=12, scores=4.01816214435e-05]\n",
      "id: doc:75, properties:[number=75, scores=4.01816214435e-05]\n",
      "id: doc:71, properties:[number=71, scores=4.18545423599e-05]\n",
      "id: doc:15, properties:[number=15, scores=4.19969401264e-05]\n",
      "id: doc:2, properties:[number=2, scores=4.19991083618e-05]\n"
     ]
    }
   ],
   "source": [
    "// query as before\n",
    "\n",
    "// build query\n",
    "int K = 5;\n",
    "Query q = new Query(\"@number:[0 100]=>[KNN $K @my_vector $BLOB AS scores]\").setSortBy(\"scores\", true)\n",
    "                                                                           .returnFields(\"number\", \"scores\")\n",
    "                                                                           .addParam(\"K\", K)\n",
    "                                                                           .addParam(\"BLOB\", floatToByte(e))\n",
    "                                                                           .limit(0,K);\n",
    "\n",
    "// FT.SEARCH \n",
    "List<Document> docs = redis_conn.ftSearch(\"my_index\", q).getDocuments();\n",
    "\n",
    "System.out.println(\"Got \" + docs.size() + \" results.\");\n",
    "for (Document doc : docs) {\n",
    "    printDoc(doc);\n",
    "}"
   ]
  },
  {
   "cell_type": "code",
   "execution_count": 16,
   "metadata": {
    "vscode": {
     "languageId": "java"
    }
   },
   "outputs": [],
   "source": [
    "// closing connection\n",
    "redis_conn.close();"
   ]
  }
 ],
 "metadata": {
  "kernelspec": {
   "display_name": "Java",
   "language": "java",
   "name": "java"
  },
  "language_info": {
   "codemirror_mode": "java",
   "file_extension": ".jshell",
   "mimetype": "text/x-java-source",
   "name": "Java",
   "pygments_lexer": "java",
   "version": "13.0.7+5-Ubuntu-0ubuntu120.04"
  }
 },
 "nbformat": 4,
 "nbformat_minor": 4
}
